{
 "cells": [
  {
   "cell_type": "code",
   "execution_count": 1,
   "id": "14d6dfaa",
   "metadata": {},
   "outputs": [],
   "source": [
    "# this is a simplest loader reads in a file as text and places it all into one document.\n",
    "\n",
    "from langchain.document_loaders import TextLoader"
   ]
  },
  {
   "cell_type": "code",
   "execution_count": 2,
   "id": "8ad6bbc1",
   "metadata": {},
   "outputs": [],
   "source": [
    "#loading the text content into an object\n",
    "\n",
    "loader = TextLoader(\"/Users/sohailshaik/Desktop/nvdia.txt\")\n",
    "data = loader.load()"
   ]
  },
  {
   "cell_type": "code",
   "execution_count": 3,
   "id": "b1a33c4e",
   "metadata": {},
   "outputs": [
    {
     "data": {
      "text/plain": [
       "\"\\ufeffI've compiled the latest news about NVIDIA into a text document for you. Here are the key highlights from recent updates:\\n\\n1. **Financial Performance and Partnerships**:\\n   - NVIDIA announced its financial results for the fourth quarter and fiscal year 2024, reporting a revenue of $22.1 billion for the quarter, which marks a 22% increase from the previous quarter and a substantial 265% increase from the previous year. This impressive growth underscores NVIDIA's strong market position and the high demand for its products and services.\\n   - In collaboration with Google, NVIDIA launched optimizations for Google’s new lightweight open language models, Gemma, across all NVIDIA AI platforms. This partnership aims to enhance the accessibility and efficiency of AI technologies, reducing costs and broadening their application.\\n\\n2. **Innovations and Market Impact**:\\n   - NVIDIA is set to reveal its latest breakthroughs in accelerated computing, generative AI, and robotics at the GTC 2024 conference, with participation from leaders across various industries. This event is expected to attract more than 300,000 attendees, highlighting NVIDIA's influential role in shaping future technology landscapes.\\n   - The company is also advancing quantum computing through its collaboration with Australia’s Pawsey Supercomputing Research Centre, integrating the NVIDIA CUDA Quantum platform to boost quantum computing simulations.\\n\\n3. **Generative AI Developments**:\\n   - NVIDIA has introduced new tools and technologies to bring generative AI to millions. This includes the NVIDIA AI Workbench and enhancements to TensorRT for accelerating large language models (LLMs), aiming to streamline the development and deployment of AI applications across various platforms.\\n   - At CES, NVIDIA showcased new generative AI-powered applications for PCs, highlighting its commitment to enhancing PC experiences with AI technology. These innovations are expected to drive new user experiences and expand NVIDIA's influence in AI-enabled applications.\\n\\n4. **Stock Market Performance**:\\n   - NVIDIA's strategic moves, including a $25 billion stock buyback plan, have significantly boosted its stock value, reaching an all-time high. This financial strategy reflects NVIDIA's confidence in its growth trajectory and its commitment to delivering value to its shareholders.\\n\\nThese updates reflect NVIDIA's strong financial performance, its strategic collaborations and innovations in AI and computing technologies, and its positive outlook in the stock market. NVIDIA continues to solidify its position as a leader in the tech industry, driving forward advancements in AI, computing, and beyond.\\n\\nFor detailed information, you can refer to the original articles from NVIDIA Newsroom and Reuters.\\n\""
      ]
     },
     "execution_count": 3,
     "metadata": {},
     "output_type": "execute_result"
    }
   ],
   "source": [
    "#content in the object \n",
    "\n",
    "data[0].page_content"
   ]
  },
  {
   "cell_type": "code",
   "execution_count": 4,
   "id": "1656819f",
   "metadata": {},
   "outputs": [
    {
     "data": {
      "text/plain": [
       "{'source': '/Users/sohailshaik/Desktop/nvdia.txt'}"
      ]
     },
     "execution_count": 4,
     "metadata": {},
     "output_type": "execute_result"
    }
   ],
   "source": [
    "# metadata of the object\n",
    "\n",
    "data[0].metadata"
   ]
  },
  {
   "cell_type": "code",
   "execution_count": 5,
   "id": "9033cd7c",
   "metadata": {},
   "outputs": [
    {
     "data": {
      "text/plain": [
       "\"\\ufeffI've compiled the latest news about NVIDIA into a text document for you. Here are the key highlights from recent updates:\\n\\n1. **Financial Performance and Partnerships**:\\n   - NVIDIA announced its financial results for the fourth quarter and fiscal year 2024, reporting a revenue of $22.1 billion for the quarter, which marks a 22% increase from the previous quarter and a substantial 265% increase from the previous year. This impressive growth underscores NVIDIA's strong market position and the high demand for its products and services.\\n   - In collaboration with Google, NVIDIA launched optimizations for Google’s new lightweight open language models, Gemma, across all NVIDIA AI platforms. This partnership aims to enhance the accessibility and efficiency of AI technologies, reducing costs and broadening their application.\\n\\n2. **Innovations and Market Impact**:\\n   - NVIDIA is set to reveal its latest breakthroughs in accelerated computing, generative AI, and robotics at the GTC 2024 conference, with participation from leaders across various industries. This event is expected to attract more than 300,000 attendees, highlighting NVIDIA's influential role in shaping future technology landscapes.\\n   - The company is also advancing quantum computing through its collaboration with Australia’s Pawsey Supercomputing Research Centre, integrating the NVIDIA CUDA Quantum platform to boost quantum computing simulations.\\n\\n3. **Generative AI Developments**:\\n   - NVIDIA has introduced new tools and technologies to bring generative AI to millions. This includes the NVIDIA AI Workbench and enhancements to TensorRT for accelerating large language models (LLMs), aiming to streamline the development and deployment of AI applications across various platforms.\\n   - At CES, NVIDIA showcased new generative AI-powered applications for PCs, highlighting its commitment to enhancing PC experiences with AI technology. These innovations are expected to drive new user experiences and expand NVIDIA's influence in AI-enabled applications.\\n\\n4. **Stock Market Performance**:\\n   - NVIDIA's strategic moves, including a $25 billion stock buyback plan, have significantly boosted its stock value, reaching an all-time high. This financial strategy reflects NVIDIA's confidence in its growth trajectory and its commitment to delivering value to its shareholders.\\n\\nThese updates reflect NVIDIA's strong financial performance, its strategic collaborations and innovations in AI and computing technologies, and its positive outlook in the stock market. NVIDIA continues to solidify its position as a leader in the tech industry, driving forward advancements in AI, computing, and beyond.\\n\\nFor detailed information, you can refer to the original articles from NVIDIA Newsroom and Reuters.\\n\""
      ]
     },
     "execution_count": 5,
     "metadata": {},
     "output_type": "execute_result"
    }
   ],
   "source": [
    "data[0].page_content"
   ]
  },
  {
   "cell_type": "code",
   "execution_count": 6,
   "id": "8ff2a338",
   "metadata": {},
   "outputs": [
    {
     "data": {
      "text/plain": [
       "{'source': '/Users/sohailshaik/Desktop/nvdia.txt'}"
      ]
     },
     "execution_count": 6,
     "metadata": {},
     "output_type": "execute_result"
    }
   ],
   "source": [
    "data[0].metadata"
   ]
  },
  {
   "cell_type": "code",
   "execution_count": 7,
   "id": "ab135727",
   "metadata": {},
   "outputs": [],
   "source": [
    "from langchain_community.document_loaders import NewsURLLoader"
   ]
  },
  {
   "cell_type": "code",
   "execution_count": 8,
   "id": "38f34c27",
   "metadata": {},
   "outputs": [],
   "source": [
    "urls = [\n",
    "    \"https://finance.yahoo.com/news/stock-market-today-sp-500-flips-to-green-before-nvidia-earnings-210307222.html\",\n",
    "\"https://apnews.com/article/nvidia-ai-artificial-intelligence-chips-market-value-5bcdc44e27e4647983197a07e1b871c5\",\n",
    "\"https://fortune.com/2024/02/22/billionaire-jensen-huang-nvidia-ai-tipping-point-whole-new-industry/\"]"
   ]
  },
  {
   "cell_type": "code",
   "execution_count": 9,
   "id": "fc9b9430",
   "metadata": {},
   "outputs": [
    {
     "name": "stdout",
     "output_type": "stream",
     "text": [
      "First article:  page_content='US stocks rallied late in the day on Wednesday as investors counted down to high-stakes earnings from AI darling Nvidia (NVDA) and digested the release of Federal Reserve minutes which reiterated the central bank\\'s focus on not cutting interest rates too soon.\\n\\nThe S&P 500 (^GSPC) rose more than 0.1%, while the Dow Jones Industrial Average (^DJI) popped about 0.1%, or almost 50 points. The tech-heavy Nasdaq Composite (^IXIC) led the way lower, down 0.3% on the heels of Tuesday\\'s declines.\\n\\nStocks are lagging, with the focus fixed on looming results from Nvidia, whose shares fell almost 3% on Tuesday for their worst day since Oct. 17 as investors positioned for the release. The stock extended that loss on Wednesday, falling more than 3% heading into its earnings release. Expectations are running high for the chipmaker\\'s fourth quarter results, seen both as a barometer for the AI trade and as a potential turning point for stocks more broadly.\\n\\nThe market is on edge for any disappointment in the report, expected after the bell. Nvidia is one of a small group of megacaps behind a big chunk of recent gains for stock indexes. Mixed prospects for growth among those \"Magnificent Seven\" stocks have prompted hedge funds to cut holdings, according to Goldman Sachs.\\n\\nIn corporates, shares of Palo Alto Networks (PANW) tumbled over 28% after the cybersecurity provider cut its annual revenue forecast, igniting concerns about a potential pullback in tech spending. Meanwhile, Walgreens shares (WBA) slid as much as 3% after the pharmacy giant lost its spot on the blue-chip Dow index to Amazon (AMZN).\\n\\nMinutes from the Fed\\'s January meeting released on Wednesday showed most Fed officials \"noted the risks of moving too quickly\" in easing interest rates during the most recent meeting. Recent discouraging data has prompted a wavering in conviction that the central bank will cut rates in June, seen as the most probable timing.\\n\\nStory continues\\n\\nAfter the closing bell, Nvida reported fourth quarter earnings, and first quarter revenue guidance, that exceeded Wall Street\\'s lofty expectations. The company guided for first quarter revenue of $24 billion plus or minus 2%, above Wall Street\\'s projections for $21.9 billion. Shares rose as much as 7% in after hours trading.\\n\\nRead more: What the Fed rate decision means for bank accounts, CDs, loans, and credit cards' metadata={'title': 'Stock market today: S&P 500 flips to green before Nvidia earnings', 'link': 'https://finance.yahoo.com/news/stock-market-today-sp-500-flips-to-green-before-nvidia-earnings-210307222.html', 'authors': ['Josh Schafer', 'Seana Smith', 'Alexandra Canal', 'Brian Sozzi', 'Brooke Dipalma'], 'language': 'en', 'description': \"Expectations are running high for Nvidia's earnings, seen both as a barometer for the AI trade and as a potential turning point for stocks.\", 'publish_date': None}\n",
      "\n",
      "Second article:  page_content='Nvidia’s stock price jumped 16% on Thursday, increasing the company’s market value by a staggering $273 billion in just one day, a record amount.\\n\\nThe chipmaker has been seeing soaring demand for its semiconductors, which are used to power artificial intelligence, or AI applications. The company’s revenue more than tripled in the latest quarter compared with the same period a year earlier.\\n\\nIt’s the latest sign that the excitement surrounding artificial intelligence likely won’t subside anytime soon. Nvidia, which has positioned itself as one of the most prominent players in AI, has been producing some eye-popping numbers. Here’s a look:\\n\\n$273 billion\\n\\nThe amount Nvidia Corp.’s market value increased on Thursday alone, according to FactSet. The previous record one-day jump was Meta Platform’s gain of $205 billion on Feb. 2 of this year. In other words, Nvidia’s one-day gain is more than the total market values of market stalwarts Bank of America ($265 billion) and Coca-Cola ($263 billion). In all, just 26 of the 500 companies in the S&P 500 have market caps above $273 billion, including Nvidia.\\n\\n$1.915 Trillion\\n\\nNvidia’s total market value as of the close of trading Thursday. It recently passed Amazon and Alphabet to become the third most valuable public company, behind Microsoft ($3.051 trillion) and Apple ($2.845 trillion). The company was valued at around $580 billion a year ago.\\n\\n$60.9 billion\\n\\nRevenue for the fiscal year ended Jan. 28, more than double Nvidia’s revenue for 2022 and about 6 times what it was five years ago. Wall Street expects Nvidia’s revenue to top $100 billion in fiscal 2025.\\n\\n48.8%\\n\\nThat’s Nvidia’s net margin, or the percentage of revenue that gets turned in profit. Looked at another way, almost 50 cents of every $1 in revenue Nvidia took in last year went to its bottom line. By comparison, Apple’s net margin is 25.3% and Microsoft’s is 34.1%. Both those companies have significantly higher revenue than Nvidia, however.' metadata={'title': 'Nvidia’s stock market value rose $273 billion in a day. How it rose to AI prominence, by the numbers', 'link': 'https://apnews.com/article/nvidia-ai-artificial-intelligence-chips-market-value-5bcdc44e27e4647983197a07e1b871c5', 'authors': [], 'language': 'en', 'description': \"Nvidia’s stock price jumped 16% on Thursday, increasing the company's market value by a staggering $273 billion in just one day, a record amount.\", 'publish_date': datetime.datetime(2024, 2, 22, 21, 33, 23)}\n",
      "\n",
      "Second article:  page_content='Jensen Huang, cofounder and CEO of Nvidia, is walking on cloud nine. After turning in another stellar earnings report that had Wall Street celebrating on Wednesday, Huang’s semiconductor giant was able to retake its position as the world’s third most valuable company from Google’s parent company, Alphabet.\\n\\nNvidia shares surged over 15% in early trading on Thursday, with the chipmaker’s blowout quarter convincing investors that the AI revolution will continue to boost the company for years to come. Huang talked up the rise of AI and his company’s role in what some have called the modern gold rush on the Wednesday post-earnings conference call. “Accelerated computing and generative AI have hit the tipping point,” he told investors. “Demand is surging worldwide across companies, industries, and nations.”\\n\\nHuang, whose net worth is now over $60 billion, highlighted the ongoing shift from general-purpose computing to “accelerated computing” at data centers as one of the keys to Nvidia’s success, arguing it’s “a whole new way of doing computing”—or even “a whole new industry.”\\n\\nAll of the recommendation and personalization features in modern applications are driven by what Huang calls “tokens” for AI companies. From biotech startups that are generating new proteins and chemicals to OpenAI’s new generative AI text-to-video system called Sora, Nvidia’s AI tokens are indispensable for the modern tech world. Just look at the numbers: Revenue exceeded estimates by a whopping $2 billion as companies gobbled up all the tokens on offer.\\n\\n“For the very first time, a data center is not just about computing data and storing data and serving the employees of a company,” Huang said on the call. “We now have a new type of data center that is about AI generation, an AI-generation factory.”\\n\\nAI-generation factories\\n\\nHuang explained that these AI-generation factories are all about taking in data and producing what he calls tokens for AI companies. “These tokens are what people experience on the amazing ChatGPT or Midjourney or search [engines],” he said.\\n\\nNvidia’s tokens are also, according to Huang, driving the company’s growth. To his point, the birth of AI-generation factories has led to intense demand for Nvidia’s chips. So intense that the company had to address how it decides who can buy its products on its earnings call, promising that the process is done “fairly.”\\n\\nAfter Nvidia’s strong earnings report, Huang wasn’t afraid to make some bold claims about the importance of his company’s products either. “My guess is that every enterprise in the world, every software enterprise company … will run on Nvidia AI Enterprise,” he said. “So this is going to likely be a very significant business over time. We’re off to a great start.”\\n\\nLofty expectations\\n\\nTo say Wall Street has high expectations for Nvidia over the next year would be understating it. The median analyst forecast for the chipmaker is $832 (and rising, as analysts continue to alter their price targets post earnings), according to data from the Wall Street Journal. That represents a 24% jump from Nvidia’s pre-earnings stock price.\\n\\n“While the stock has doubled since its 2021 high, the world has changed since then, and there is significant demand for artificial intelligence, and thus, Nvidia has plenty more room to run,” James Demmert, chief investment officer, Main Street Research, told Fortune, adding that he expects Nvidia shares to reach $1,000 in the next 12 months.\\n\\nThere are some Nvidia doubters still out there. Gil Luria, a senior software analyst at D.A. Davidson, argued that even if Nvidia continues to “dominate” the AI chip market over the next year, eventually, it’s likely to see a decline in demand for its products. Luria noted that some of Nvidia’s biggest customers, including its fellow Big Tech peers, have said that they are accelerating their AI spending this year in an initial push to catch up with demand for AI services, but that means a spending slowdown could be coming in 2025.\\n\\n“We believe that customers like Microsoft are not interested in indefinitely sustaining this level of capex dedicated solely to AI compute, yet alone Nvidia,” he wrote. “Consequently, we believe our FY26 and FY27 estimates reflect a Street low, as we see potential for a sequential decline in Nvidia’s data center business starting sometime over the next four to six quarters.”\\n\\nLuria has a “neutral” rating and a $620 12-month price target for Nvidia stock, and he isn’t the only analyst preaching caution when it comes to AI chipmakers’ long-term growth prospects. On Wednesday, BCA Research chief strategist Dhaval Joshi told Fortune’s Paolo Confino that we’re in “an AI bubble” and investors’ expectations for continuous, monumental earnings growth may be unreasonable.\\n\\n“The market is saying: ‘Hey, the baton is going to be passed on now to generative AI, and that will continue the trend for the next five to 10 years.’ I’m very cynical about that,” he said.' metadata={'title': 'Nvidia CEO crowns ‘whole new industry’ amid ‘tipping point’ after his company passes Google for third most valuable in the world', 'link': 'https://fortune.com/2024/02/22/billionaire-jensen-huang-nvidia-ai-tipping-point-whole-new-industry/', 'authors': [], 'language': 'en', 'description': 'Nvidia cofounder Jensen Huang, worth over $60 billion after his $1.9 trillion AI giant reported blowout earnings, says AI is “a whole new way of doing computing.”', 'publish_date': datetime.datetime(2024, 2, 22, 0, 0)}\n"
     ]
    }
   ],
   "source": [
    "loader = NewsURLLoader(urls=urls)\n",
    "data = loader.load()\n",
    "print(\"First article: \", data[0])\n",
    "print(\"\\nSecond article: \", data[1])\n",
    "print(\"\\nSecond article: \", data[2])"
   ]
  },
  {
   "cell_type": "code",
   "execution_count": 10,
   "id": "00020f0b",
   "metadata": {},
   "outputs": [
    {
     "data": {
      "text/plain": [
       "{'title': 'Nvidia’s stock market value rose $273 billion in a day. How it rose to AI prominence, by the numbers',\n",
       " 'link': 'https://apnews.com/article/nvidia-ai-artificial-intelligence-chips-market-value-5bcdc44e27e4647983197a07e1b871c5',\n",
       " 'authors': [],\n",
       " 'language': 'en',\n",
       " 'description': \"Nvidia’s stock price jumped 16% on Thursday, increasing the company's market value by a staggering $273 billion in just one day, a record amount.\",\n",
       " 'publish_date': datetime.datetime(2024, 2, 22, 21, 33, 23)}"
      ]
     },
     "execution_count": 10,
     "metadata": {},
     "output_type": "execute_result"
    }
   ],
   "source": [
    "data[1].metadata"
   ]
  },
  {
   "cell_type": "code",
   "execution_count": 11,
   "id": "b00caeb9",
   "metadata": {},
   "outputs": [
    {
     "data": {
      "text/plain": [
       "[Document(page_content='US stocks rallied late in the day on Wednesday as investors counted down to high-stakes earnings from AI darling Nvidia (NVDA) and digested the release of Federal Reserve minutes which reiterated the central bank\\'s focus on not cutting interest rates too soon.\\n\\nThe S&P 500 (^GSPC) rose more than 0.1%, while the Dow Jones Industrial Average (^DJI) popped about 0.1%, or almost 50 points. The tech-heavy Nasdaq Composite (^IXIC) led the way lower, down 0.3% on the heels of Tuesday\\'s declines.\\n\\nStocks are lagging, with the focus fixed on looming results from Nvidia, whose shares fell almost 3% on Tuesday for their worst day since Oct. 17 as investors positioned for the release. The stock extended that loss on Wednesday, falling more than 3% heading into its earnings release. Expectations are running high for the chipmaker\\'s fourth quarter results, seen both as a barometer for the AI trade and as a potential turning point for stocks more broadly.\\n\\nThe market is on edge for any disappointment in the report, expected after the bell. Nvidia is one of a small group of megacaps behind a big chunk of recent gains for stock indexes. Mixed prospects for growth among those \"Magnificent Seven\" stocks have prompted hedge funds to cut holdings, according to Goldman Sachs.\\n\\nIn corporates, shares of Palo Alto Networks (PANW) tumbled over 28% after the cybersecurity provider cut its annual revenue forecast, igniting concerns about a potential pullback in tech spending. Meanwhile, Walgreens shares (WBA) slid as much as 3% after the pharmacy giant lost its spot on the blue-chip Dow index to Amazon (AMZN).\\n\\nMinutes from the Fed\\'s January meeting released on Wednesday showed most Fed officials \"noted the risks of moving too quickly\" in easing interest rates during the most recent meeting. Recent discouraging data has prompted a wavering in conviction that the central bank will cut rates in June, seen as the most probable timing.\\n\\nStory continues\\n\\nAfter the closing bell, Nvida reported fourth quarter earnings, and first quarter revenue guidance, that exceeded Wall Street\\'s lofty expectations. The company guided for first quarter revenue of $24 billion plus or minus 2%, above Wall Street\\'s projections for $21.9 billion. Shares rose as much as 7% in after hours trading.\\n\\nRead more: What the Fed rate decision means for bank accounts, CDs, loans, and credit cards', metadata={'title': 'Stock market today: S&P 500 flips to green before Nvidia earnings', 'link': 'https://finance.yahoo.com/news/stock-market-today-sp-500-flips-to-green-before-nvidia-earnings-210307222.html', 'authors': ['Josh Schafer', 'Seana Smith', 'Alexandra Canal', 'Brian Sozzi', 'Brooke Dipalma'], 'language': 'en', 'description': \"Expectations are running high for Nvidia's earnings, seen both as a barometer for the AI trade and as a potential turning point for stocks.\", 'publish_date': None}),\n",
       " Document(page_content='Nvidia’s stock price jumped 16% on Thursday, increasing the company’s market value by a staggering $273 billion in just one day, a record amount.\\n\\nThe chipmaker has been seeing soaring demand for its semiconductors, which are used to power artificial intelligence, or AI applications. The company’s revenue more than tripled in the latest quarter compared with the same period a year earlier.\\n\\nIt’s the latest sign that the excitement surrounding artificial intelligence likely won’t subside anytime soon. Nvidia, which has positioned itself as one of the most prominent players in AI, has been producing some eye-popping numbers. Here’s a look:\\n\\n$273 billion\\n\\nThe amount Nvidia Corp.’s market value increased on Thursday alone, according to FactSet. The previous record one-day jump was Meta Platform’s gain of $205 billion on Feb. 2 of this year. In other words, Nvidia’s one-day gain is more than the total market values of market stalwarts Bank of America ($265 billion) and Coca-Cola ($263 billion). In all, just 26 of the 500 companies in the S&P 500 have market caps above $273 billion, including Nvidia.\\n\\n$1.915 Trillion\\n\\nNvidia’s total market value as of the close of trading Thursday. It recently passed Amazon and Alphabet to become the third most valuable public company, behind Microsoft ($3.051 trillion) and Apple ($2.845 trillion). The company was valued at around $580 billion a year ago.\\n\\n$60.9 billion\\n\\nRevenue for the fiscal year ended Jan. 28, more than double Nvidia’s revenue for 2022 and about 6 times what it was five years ago. Wall Street expects Nvidia’s revenue to top $100 billion in fiscal 2025.\\n\\n48.8%\\n\\nThat’s Nvidia’s net margin, or the percentage of revenue that gets turned in profit. Looked at another way, almost 50 cents of every $1 in revenue Nvidia took in last year went to its bottom line. By comparison, Apple’s net margin is 25.3% and Microsoft’s is 34.1%. Both those companies have significantly higher revenue than Nvidia, however.', metadata={'title': 'Nvidia’s stock market value rose $273 billion in a day. How it rose to AI prominence, by the numbers', 'link': 'https://apnews.com/article/nvidia-ai-artificial-intelligence-chips-market-value-5bcdc44e27e4647983197a07e1b871c5', 'authors': [], 'language': 'en', 'description': \"Nvidia’s stock price jumped 16% on Thursday, increasing the company's market value by a staggering $273 billion in just one day, a record amount.\", 'publish_date': datetime.datetime(2024, 2, 22, 21, 33, 23)}),\n",
       " Document(page_content='Jensen Huang, cofounder and CEO of Nvidia, is walking on cloud nine. After turning in another stellar earnings report that had Wall Street celebrating on Wednesday, Huang’s semiconductor giant was able to retake its position as the world’s third most valuable company from Google’s parent company, Alphabet.\\n\\nNvidia shares surged over 15% in early trading on Thursday, with the chipmaker’s blowout quarter convincing investors that the AI revolution will continue to boost the company for years to come. Huang talked up the rise of AI and his company’s role in what some have called the modern gold rush on the Wednesday post-earnings conference call. “Accelerated computing and generative AI have hit the tipping point,” he told investors. “Demand is surging worldwide across companies, industries, and nations.”\\n\\nHuang, whose net worth is now over $60 billion, highlighted the ongoing shift from general-purpose computing to “accelerated computing” at data centers as one of the keys to Nvidia’s success, arguing it’s “a whole new way of doing computing”—or even “a whole new industry.”\\n\\nAll of the recommendation and personalization features in modern applications are driven by what Huang calls “tokens” for AI companies. From biotech startups that are generating new proteins and chemicals to OpenAI’s new generative AI text-to-video system called Sora, Nvidia’s AI tokens are indispensable for the modern tech world. Just look at the numbers: Revenue exceeded estimates by a whopping $2 billion as companies gobbled up all the tokens on offer.\\n\\n“For the very first time, a data center is not just about computing data and storing data and serving the employees of a company,” Huang said on the call. “We now have a new type of data center that is about AI generation, an AI-generation factory.”\\n\\nAI-generation factories\\n\\nHuang explained that these AI-generation factories are all about taking in data and producing what he calls tokens for AI companies. “These tokens are what people experience on the amazing ChatGPT or Midjourney or search [engines],” he said.\\n\\nNvidia’s tokens are also, according to Huang, driving the company’s growth. To his point, the birth of AI-generation factories has led to intense demand for Nvidia’s chips. So intense that the company had to address how it decides who can buy its products on its earnings call, promising that the process is done “fairly.”\\n\\nAfter Nvidia’s strong earnings report, Huang wasn’t afraid to make some bold claims about the importance of his company’s products either. “My guess is that every enterprise in the world, every software enterprise company … will run on Nvidia AI Enterprise,” he said. “So this is going to likely be a very significant business over time. We’re off to a great start.”\\n\\nLofty expectations\\n\\nTo say Wall Street has high expectations for Nvidia over the next year would be understating it. The median analyst forecast for the chipmaker is $832 (and rising, as analysts continue to alter their price targets post earnings), according to data from the Wall Street Journal. That represents a 24% jump from Nvidia’s pre-earnings stock price.\\n\\n“While the stock has doubled since its 2021 high, the world has changed since then, and there is significant demand for artificial intelligence, and thus, Nvidia has plenty more room to run,” James Demmert, chief investment officer, Main Street Research, told Fortune, adding that he expects Nvidia shares to reach $1,000 in the next 12 months.\\n\\nThere are some Nvidia doubters still out there. Gil Luria, a senior software analyst at D.A. Davidson, argued that even if Nvidia continues to “dominate” the AI chip market over the next year, eventually, it’s likely to see a decline in demand for its products. Luria noted that some of Nvidia’s biggest customers, including its fellow Big Tech peers, have said that they are accelerating their AI spending this year in an initial push to catch up with demand for AI services, but that means a spending slowdown could be coming in 2025.\\n\\n“We believe that customers like Microsoft are not interested in indefinitely sustaining this level of capex dedicated solely to AI compute, yet alone Nvidia,” he wrote. “Consequently, we believe our FY26 and FY27 estimates reflect a Street low, as we see potential for a sequential decline in Nvidia’s data center business starting sometime over the next four to six quarters.”\\n\\nLuria has a “neutral” rating and a $620 12-month price target for Nvidia stock, and he isn’t the only analyst preaching caution when it comes to AI chipmakers’ long-term growth prospects. On Wednesday, BCA Research chief strategist Dhaval Joshi told Fortune’s Paolo Confino that we’re in “an AI bubble” and investors’ expectations for continuous, monumental earnings growth may be unreasonable.\\n\\n“The market is saying: ‘Hey, the baton is going to be passed on now to generative AI, and that will continue the trend for the next five to 10 years.’ I’m very cynical about that,” he said.', metadata={'title': 'Nvidia CEO crowns ‘whole new industry’ amid ‘tipping point’ after his company passes Google for third most valuable in the world', 'link': 'https://fortune.com/2024/02/22/billionaire-jensen-huang-nvidia-ai-tipping-point-whole-new-industry/', 'authors': [], 'language': 'en', 'description': 'Nvidia cofounder Jensen Huang, worth over $60 billion after his $1.9 trillion AI giant reported blowout earnings, says AI is “a whole new way of doing computing.”', 'publish_date': datetime.datetime(2024, 2, 22, 0, 0)})]"
      ]
     },
     "execution_count": 11,
     "metadata": {},
     "output_type": "execute_result"
    }
   ],
   "source": [
    "data"
   ]
  },
  {
   "cell_type": "code",
   "execution_count": 12,
   "id": "654af3ac",
   "metadata": {},
   "outputs": [],
   "source": [
    "# Now let's split this data into chunks, we are doing this because each LLM has a input token size, larger the chunk \n",
    "#size larger the token size and the price per call also increases. also it is computationally intense\n",
    "\n",
    "#instead we try to break it into chunks"
   ]
  },
  {
   "cell_type": "code",
   "execution_count": 13,
   "id": "6828b513",
   "metadata": {},
   "outputs": [],
   "source": [
    "#there are lot of textsplitters in langchain, but the most meanigful one is \"Recursivetextspliiter\", as it splits the\n",
    "#text according to the context and chunksize is kept well within the limit."
   ]
  },
  {
   "cell_type": "code",
   "execution_count": 14,
   "id": "37a35d7b",
   "metadata": {},
   "outputs": [],
   "source": [
    "from langchain.text_splitter import RecursiveCharacterTextSplitter\n",
    "\n",
    "r_splitter = RecursiveCharacterTextSplitter(separators = [\"\\n\\n\",\"\\n\",\" \"],\n",
    "                                           chunk_size = 200,\n",
    "                                           chunk_overlap = 0)\n",
    "for i,v in enumerate(data):\n",
    "    chunks = r_splitter.split_text(data[i].page_content)"
   ]
  },
  {
   "cell_type": "code",
   "execution_count": 15,
   "id": "45ca617d",
   "metadata": {},
   "outputs": [
    {
     "data": {
      "text/plain": [
       "33"
      ]
     },
     "execution_count": 15,
     "metadata": {},
     "output_type": "execute_result"
    }
   ],
   "source": [
    "len(chunks)"
   ]
  },
  {
   "cell_type": "code",
   "execution_count": 16,
   "id": "1c70210f",
   "metadata": {},
   "outputs": [
    {
     "name": "stdout",
     "output_type": "stream",
     "text": [
      "Jensen Huang, cofounder and CEO of Nvidia, is walking on cloud nine. After turning in another stellar earnings report that had Wall Street celebrating on Wednesday, Huang’s semiconductor giant was\n",
      "able to retake its position as the world’s third most valuable company from Google’s parent company, Alphabet.\n",
      "Nvidia shares surged over 15% in early trading on Thursday, with the chipmaker’s blowout quarter convincing investors that the AI revolution will continue to boost the company for years to come.\n",
      "Huang talked up the rise of AI and his company’s role in what some have called the modern gold rush on the Wednesday post-earnings conference call. “Accelerated computing and generative AI have hit\n",
      "the tipping point,” he told investors. “Demand is surging worldwide across companies, industries, and nations.”\n",
      "Huang, whose net worth is now over $60 billion, highlighted the ongoing shift from general-purpose computing to “accelerated computing” at data centers as one of the keys to Nvidia’s success, arguing\n",
      "it’s “a whole new way of doing computing”—or even “a whole new industry.”\n",
      "All of the recommendation and personalization features in modern applications are driven by what Huang calls “tokens” for AI companies. From biotech startups that are generating new proteins and\n",
      "chemicals to OpenAI’s new generative AI text-to-video system called Sora, Nvidia’s AI tokens are indispensable for the modern tech world. Just look at the numbers: Revenue exceeded estimates by a\n",
      "whopping $2 billion as companies gobbled up all the tokens on offer.\n",
      "“For the very first time, a data center is not just about computing data and storing data and serving the employees of a company,” Huang said on the call. “We now have a new type of data center that\n",
      "is about AI generation, an AI-generation factory.”\n",
      "AI-generation factories\n",
      "Huang explained that these AI-generation factories are all about taking in data and producing what he calls tokens for AI companies. “These tokens are what people experience on the amazing ChatGPT or\n",
      "Midjourney or search [engines],” he said.\n",
      "Nvidia’s tokens are also, according to Huang, driving the company’s growth. To his point, the birth of AI-generation factories has led to intense demand for Nvidia’s chips. So intense that the\n",
      "company had to address how it decides who can buy its products on its earnings call, promising that the process is done “fairly.”\n",
      "After Nvidia’s strong earnings report, Huang wasn’t afraid to make some bold claims about the importance of his company’s products either. “My guess is that every enterprise in the world, every\n",
      "software enterprise company … will run on Nvidia AI Enterprise,” he said. “So this is going to likely be a very significant business over time. We’re off to a great start.”\n",
      "Lofty expectations\n",
      "To say Wall Street has high expectations for Nvidia over the next year would be understating it. The median analyst forecast for the chipmaker is $832 (and rising, as analysts continue to alter their\n",
      "price targets post earnings), according to data from the Wall Street Journal. That represents a 24% jump from Nvidia’s pre-earnings stock price.\n",
      "“While the stock has doubled since its 2021 high, the world has changed since then, and there is significant demand for artificial intelligence, and thus, Nvidia has plenty more room to run,” James\n",
      "Demmert, chief investment officer, Main Street Research, told Fortune, adding that he expects Nvidia shares to reach $1,000 in the next 12 months.\n",
      "There are some Nvidia doubters still out there. Gil Luria, a senior software analyst at D.A. Davidson, argued that even if Nvidia continues to “dominate” the AI chip market over the next year,\n",
      "eventually, it’s likely to see a decline in demand for its products. Luria noted that some of Nvidia’s biggest customers, including its fellow Big Tech peers, have said that they are accelerating\n",
      "their AI spending this year in an initial push to catch up with demand for AI services, but that means a spending slowdown could be coming in 2025.\n",
      "“We believe that customers like Microsoft are not interested in indefinitely sustaining this level of capex dedicated solely to AI compute, yet alone Nvidia,” he wrote. “Consequently, we believe our\n",
      "FY26 and FY27 estimates reflect a Street low, as we see potential for a sequential decline in Nvidia’s data center business starting sometime over the next four to six quarters.”\n",
      "Luria has a “neutral” rating and a $620 12-month price target for Nvidia stock, and he isn’t the only analyst preaching caution when it comes to AI chipmakers’ long-term growth prospects. On\n",
      "Wednesday, BCA Research chief strategist Dhaval Joshi told Fortune’s Paolo Confino that we’re in “an AI bubble” and investors’ expectations for continuous, monumental earnings growth may be\n",
      "unreasonable.\n",
      "“The market is saying: ‘Hey, the baton is going to be passed on now to generative AI, and that will continue the trend for the next five to 10 years.’ I’m very cynical about that,” he said.\n"
     ]
    }
   ],
   "source": [
    "for l in chunks:\n",
    "    print(l)"
   ]
  },
  {
   "cell_type": "code",
   "execution_count": 17,
   "id": "1fb72964",
   "metadata": {},
   "outputs": [],
   "source": [
    "# now let's talk about FAISS Faiss is a library for efficient similarity search and clustering of dense vectors. It contains algorithms that search in sets of vectors of any size, \n",
    "# up to ones that possibly do not fit in RAM. It also contains supporting code for evaluation and parameter tuning."
   ]
  },
  {
   "cell_type": "code",
   "execution_count": 18,
   "id": "b210c76c",
   "metadata": {},
   "outputs": [
    {
     "name": "stdout",
     "output_type": "stream",
     "text": [
      "Requirement already satisfied: faiss-cpu in /Users/sohailshaik/anaconda3/lib/python3.11/site-packages (1.7.4)\n",
      "Note: you may need to restart the kernel to use updated packages.\n"
     ]
    }
   ],
   "source": [
    "pip install faiss-cpu"
   ]
  },
  {
   "cell_type": "code",
   "execution_count": 19,
   "id": "14a59970",
   "metadata": {},
   "outputs": [
    {
     "name": "stdout",
     "output_type": "stream",
     "text": [
      "Requirement already satisfied: sentence-transformers in /Users/sohailshaik/anaconda3/lib/python3.11/site-packages (2.4.0)\n",
      "Requirement already satisfied: transformers<5.0.0,>=4.32.0 in /Users/sohailshaik/anaconda3/lib/python3.11/site-packages (from sentence-transformers) (4.32.1)\n",
      "Requirement already satisfied: tqdm in /Users/sohailshaik/anaconda3/lib/python3.11/site-packages (from sentence-transformers) (4.65.0)\n",
      "Requirement already satisfied: torch>=1.11.0 in /Users/sohailshaik/anaconda3/lib/python3.11/site-packages (from sentence-transformers) (2.2.1)\n",
      "Requirement already satisfied: numpy in /Users/sohailshaik/anaconda3/lib/python3.11/site-packages (from sentence-transformers) (1.24.3)\n",
      "Requirement already satisfied: scikit-learn in /Users/sohailshaik/anaconda3/lib/python3.11/site-packages (from sentence-transformers) (1.3.0)\n",
      "Requirement already satisfied: scipy in /Users/sohailshaik/anaconda3/lib/python3.11/site-packages (from sentence-transformers) (1.11.1)\n",
      "Requirement already satisfied: huggingface-hub>=0.15.1 in /Users/sohailshaik/anaconda3/lib/python3.11/site-packages (from sentence-transformers) (0.15.1)\n",
      "Requirement already satisfied: Pillow in /Users/sohailshaik/anaconda3/lib/python3.11/site-packages (from sentence-transformers) (9.4.0)\n",
      "Requirement already satisfied: filelock in /Users/sohailshaik/anaconda3/lib/python3.11/site-packages (from huggingface-hub>=0.15.1->sentence-transformers) (3.9.0)\n",
      "Requirement already satisfied: fsspec in /Users/sohailshaik/anaconda3/lib/python3.11/site-packages (from huggingface-hub>=0.15.1->sentence-transformers) (2023.4.0)\n",
      "Requirement already satisfied: requests in /Users/sohailshaik/anaconda3/lib/python3.11/site-packages (from huggingface-hub>=0.15.1->sentence-transformers) (2.31.0)\n",
      "Requirement already satisfied: pyyaml>=5.1 in /Users/sohailshaik/anaconda3/lib/python3.11/site-packages (from huggingface-hub>=0.15.1->sentence-transformers) (6.0)\n",
      "Requirement already satisfied: typing-extensions>=3.7.4.3 in /Users/sohailshaik/anaconda3/lib/python3.11/site-packages (from huggingface-hub>=0.15.1->sentence-transformers) (4.9.0)\n",
      "Requirement already satisfied: packaging>=20.9 in /Users/sohailshaik/anaconda3/lib/python3.11/site-packages (from huggingface-hub>=0.15.1->sentence-transformers) (23.2)\n",
      "Requirement already satisfied: sympy in /Users/sohailshaik/anaconda3/lib/python3.11/site-packages (from torch>=1.11.0->sentence-transformers) (1.11.1)\n",
      "Requirement already satisfied: networkx in /Users/sohailshaik/anaconda3/lib/python3.11/site-packages (from torch>=1.11.0->sentence-transformers) (3.1)\n",
      "Requirement already satisfied: jinja2 in /Users/sohailshaik/anaconda3/lib/python3.11/site-packages (from torch>=1.11.0->sentence-transformers) (3.1.2)\n",
      "Requirement already satisfied: regex!=2019.12.17 in /Users/sohailshaik/anaconda3/lib/python3.11/site-packages (from transformers<5.0.0,>=4.32.0->sentence-transformers) (2022.7.9)\n",
      "Requirement already satisfied: tokenizers!=0.11.3,<0.14,>=0.11.1 in /Users/sohailshaik/anaconda3/lib/python3.11/site-packages (from transformers<5.0.0,>=4.32.0->sentence-transformers) (0.13.2)\n",
      "Requirement already satisfied: safetensors>=0.3.1 in /Users/sohailshaik/anaconda3/lib/python3.11/site-packages (from transformers<5.0.0,>=4.32.0->sentence-transformers) (0.3.2)\n",
      "Requirement already satisfied: joblib>=1.1.1 in /Users/sohailshaik/anaconda3/lib/python3.11/site-packages (from scikit-learn->sentence-transformers) (1.2.0)\n",
      "Requirement already satisfied: threadpoolctl>=2.0.0 in /Users/sohailshaik/anaconda3/lib/python3.11/site-packages (from scikit-learn->sentence-transformers) (2.2.0)\n",
      "Requirement already satisfied: MarkupSafe>=2.0 in /Users/sohailshaik/anaconda3/lib/python3.11/site-packages (from jinja2->torch>=1.11.0->sentence-transformers) (2.1.1)\n",
      "Requirement already satisfied: charset-normalizer<4,>=2 in /Users/sohailshaik/anaconda3/lib/python3.11/site-packages (from requests->huggingface-hub>=0.15.1->sentence-transformers) (3.3.2)\n",
      "Requirement already satisfied: idna<4,>=2.5 in /Users/sohailshaik/anaconda3/lib/python3.11/site-packages (from requests->huggingface-hub>=0.15.1->sentence-transformers) (3.4)\n",
      "Requirement already satisfied: urllib3<3,>=1.21.1 in /Users/sohailshaik/anaconda3/lib/python3.11/site-packages (from requests->huggingface-hub>=0.15.1->sentence-transformers) (2.2.1)\n",
      "Requirement already satisfied: certifi>=2017.4.17 in /Users/sohailshaik/anaconda3/lib/python3.11/site-packages (from requests->huggingface-hub>=0.15.1->sentence-transformers) (2023.7.22)\n",
      "Requirement already satisfied: mpmath>=0.19 in /Users/sohailshaik/anaconda3/lib/python3.11/site-packages (from sympy->torch>=1.11.0->sentence-transformers) (1.3.0)\n",
      "Note: you may need to restart the kernel to use updated packages.\n"
     ]
    }
   ],
   "source": [
    "pip install sentence-transformers"
   ]
  },
  {
   "cell_type": "code",
   "execution_count": 20,
   "id": "a6a37209",
   "metadata": {},
   "outputs": [],
   "source": [
    "import pandas as pd\n",
    "\n",
    "pd.set_option('display.max_colwidth', 100)"
   ]
  },
  {
   "cell_type": "code",
   "execution_count": 21,
   "id": "64acb688",
   "metadata": {},
   "outputs": [],
   "source": [
    "df = pd.read_csv(\"/Users/sohailshaik/Documents/Everything Else/Book1.csv\")"
   ]
  },
  {
   "cell_type": "code",
   "execution_count": 22,
   "id": "37e42d80",
   "metadata": {},
   "outputs": [
    {
     "data": {
      "text/plain": [
       "(4, 4)"
      ]
     },
     "execution_count": 22,
     "metadata": {},
     "output_type": "execute_result"
    }
   ],
   "source": [
    "df.shape"
   ]
  },
  {
   "cell_type": "code",
   "execution_count": 23,
   "id": "2570d57e",
   "metadata": {},
   "outputs": [
    {
     "data": {
      "text/html": [
       "<div>\n",
       "<style scoped>\n",
       "    .dataframe tbody tr th:only-of-type {\n",
       "        vertical-align: middle;\n",
       "    }\n",
       "\n",
       "    .dataframe tbody tr th {\n",
       "        vertical-align: top;\n",
       "    }\n",
       "\n",
       "    .dataframe thead th {\n",
       "        text-align: right;\n",
       "    }\n",
       "</style>\n",
       "<table border=\"1\" class=\"dataframe\">\n",
       "  <thead>\n",
       "    <tr style=\"text-align: right;\">\n",
       "      <th></th>\n",
       "      <th>Movie</th>\n",
       "      <th>Budget</th>\n",
       "      <th>Revenue</th>\n",
       "      <th>ROI</th>\n",
       "    </tr>\n",
       "  </thead>\n",
       "  <tbody>\n",
       "    <tr>\n",
       "      <th>0</th>\n",
       "      <td>Paranormal Activity</td>\n",
       "      <td>0.15</td>\n",
       "      <td>192</td>\n",
       "      <td>1280.000000</td>\n",
       "    </tr>\n",
       "    <tr>\n",
       "      <th>1</th>\n",
       "      <td>Get Out</td>\n",
       "      <td>4.50</td>\n",
       "      <td>255</td>\n",
       "      <td>56.666667</td>\n",
       "    </tr>\n",
       "    <tr>\n",
       "      <th>2</th>\n",
       "      <td>The Conjuring</td>\n",
       "      <td>20.00</td>\n",
       "      <td>319</td>\n",
       "      <td>15.950000</td>\n",
       "    </tr>\n",
       "    <tr>\n",
       "      <th>3</th>\n",
       "      <td>Smile</td>\n",
       "      <td>17.00</td>\n",
       "      <td>217</td>\n",
       "      <td>12.764706</td>\n",
       "    </tr>\n",
       "  </tbody>\n",
       "</table>\n",
       "</div>"
      ],
      "text/plain": [
       "                 Movie  Budget  Revenue          ROI\n",
       "0  Paranormal Activity    0.15      192  1280.000000\n",
       "1              Get Out    4.50      255    56.666667\n",
       "2        The Conjuring   20.00      319    15.950000\n",
       "3                Smile   17.00      217    12.764706"
      ]
     },
     "execution_count": 23,
     "metadata": {},
     "output_type": "execute_result"
    }
   ],
   "source": [
    "df.head()"
   ]
  },
  {
   "cell_type": "code",
   "execution_count": 24,
   "id": "707d79f3",
   "metadata": {},
   "outputs": [
    {
     "ename": "ImportError",
     "evalue": "cannot import name 'is_nltk_available' from 'transformers.utils.import_utils' (/Users/sohailshaik/anaconda3/lib/python3.11/site-packages/transformers/utils/import_utils.py)",
     "output_type": "error",
     "traceback": [
      "\u001b[0;31m---------------------------------------------------------------------------\u001b[0m",
      "\u001b[0;31mImportError\u001b[0m                               Traceback (most recent call last)",
      "Cell \u001b[0;32mIn[24], line 1\u001b[0m\n\u001b[0;32m----> 1\u001b[0m \u001b[38;5;28;01mfrom\u001b[39;00m \u001b[38;5;21;01msentence_transformers\u001b[39;00m \u001b[38;5;28;01mimport\u001b[39;00m SentenceTransformer\n\u001b[1;32m      3\u001b[0m SentenceTransformer(\u001b[38;5;124m\"\u001b[39m\u001b[38;5;124mall-mpnet-base-v2\u001b[39m\u001b[38;5;124m\"\u001b[39m)\n\u001b[1;32m      4\u001b[0m vectors \u001b[38;5;241m=\u001b[39m encoder\u001b[38;5;241m.\u001b[39mencode(df[\u001b[38;5;124m'\u001b[39m\u001b[38;5;124mMovie\u001b[39m\u001b[38;5;124m'\u001b[39m])\n",
      "File \u001b[0;32m~/anaconda3/lib/python3.11/site-packages/sentence_transformers/__init__.py:3\u001b[0m\n\u001b[1;32m      1\u001b[0m __version__ \u001b[38;5;241m=\u001b[39m \u001b[38;5;124m\"\u001b[39m\u001b[38;5;124m2.4.0\u001b[39m\u001b[38;5;124m\"\u001b[39m\n\u001b[1;32m      2\u001b[0m __MODEL_HUB_ORGANIZATION__ \u001b[38;5;241m=\u001b[39m \u001b[38;5;124m\"\u001b[39m\u001b[38;5;124msentence-transformers\u001b[39m\u001b[38;5;124m\"\u001b[39m\n\u001b[0;32m----> 3\u001b[0m \u001b[38;5;28;01mfrom\u001b[39;00m \u001b[38;5;21;01m.\u001b[39;00m\u001b[38;5;21;01mdatasets\u001b[39;00m \u001b[38;5;28;01mimport\u001b[39;00m SentencesDataset, ParallelSentencesDataset\n\u001b[1;32m      4\u001b[0m \u001b[38;5;28;01mfrom\u001b[39;00m \u001b[38;5;21;01m.\u001b[39;00m\u001b[38;5;21;01mLoggingHandler\u001b[39;00m \u001b[38;5;28;01mimport\u001b[39;00m LoggingHandler\n\u001b[1;32m      5\u001b[0m \u001b[38;5;28;01mfrom\u001b[39;00m \u001b[38;5;21;01m.\u001b[39;00m\u001b[38;5;21;01mSentenceTransformer\u001b[39;00m \u001b[38;5;28;01mimport\u001b[39;00m SentenceTransformer\n",
      "File \u001b[0;32m~/anaconda3/lib/python3.11/site-packages/sentence_transformers/datasets/__init__.py:1\u001b[0m\n\u001b[0;32m----> 1\u001b[0m \u001b[38;5;28;01mfrom\u001b[39;00m \u001b[38;5;21;01m.\u001b[39;00m\u001b[38;5;21;01mDenoisingAutoEncoderDataset\u001b[39;00m \u001b[38;5;28;01mimport\u001b[39;00m DenoisingAutoEncoderDataset\n\u001b[1;32m      2\u001b[0m \u001b[38;5;28;01mfrom\u001b[39;00m \u001b[38;5;21;01m.\u001b[39;00m\u001b[38;5;21;01mNoDuplicatesDataLoader\u001b[39;00m \u001b[38;5;28;01mimport\u001b[39;00m NoDuplicatesDataLoader\n\u001b[1;32m      3\u001b[0m \u001b[38;5;28;01mfrom\u001b[39;00m \u001b[38;5;21;01m.\u001b[39;00m\u001b[38;5;21;01mParallelSentencesDataset\u001b[39;00m \u001b[38;5;28;01mimport\u001b[39;00m ParallelSentencesDataset\n",
      "File \u001b[0;32m~/anaconda3/lib/python3.11/site-packages/sentence_transformers/datasets/DenoisingAutoEncoderDataset.py:5\u001b[0m\n\u001b[1;32m      3\u001b[0m \u001b[38;5;28;01mfrom\u001b[39;00m \u001b[38;5;21;01m.\u001b[39;00m\u001b[38;5;21;01m.\u001b[39;00m\u001b[38;5;21;01mreaders\u001b[39;00m\u001b[38;5;21;01m.\u001b[39;00m\u001b[38;5;21;01mInputExample\u001b[39;00m \u001b[38;5;28;01mimport\u001b[39;00m InputExample\n\u001b[1;32m      4\u001b[0m \u001b[38;5;28;01mimport\u001b[39;00m \u001b[38;5;21;01mnumpy\u001b[39;00m \u001b[38;5;28;01mas\u001b[39;00m \u001b[38;5;21;01mnp\u001b[39;00m\n\u001b[0;32m----> 5\u001b[0m \u001b[38;5;28;01mfrom\u001b[39;00m \u001b[38;5;21;01mtransformers\u001b[39;00m\u001b[38;5;21;01m.\u001b[39;00m\u001b[38;5;21;01mutils\u001b[39;00m\u001b[38;5;21;01m.\u001b[39;00m\u001b[38;5;21;01mimport_utils\u001b[39;00m \u001b[38;5;28;01mimport\u001b[39;00m is_nltk_available, NLTK_IMPORT_ERROR\n\u001b[1;32m      8\u001b[0m \u001b[38;5;28;01mclass\u001b[39;00m \u001b[38;5;21;01mDenoisingAutoEncoderDataset\u001b[39;00m(Dataset):\n\u001b[1;32m      9\u001b[0m \u001b[38;5;250m    \u001b[39m\u001b[38;5;124;03m\"\"\"\u001b[39;00m\n\u001b[1;32m     10\u001b[0m \u001b[38;5;124;03m    The DenoisingAutoEncoderDataset returns InputExamples in the format: texts=[noise_fn(sentence), sentence]\u001b[39;00m\n\u001b[1;32m     11\u001b[0m \u001b[38;5;124;03m    It is used in combination with the DenoisingAutoEncoderLoss: Here, a decoder tries to re-construct the\u001b[39;00m\n\u001b[0;32m   (...)\u001b[0m\n\u001b[1;32m     15\u001b[0m \u001b[38;5;124;03m    :param noise_fn: A noise function: Given a string, it returns a string with noise, e.g. deleted words\u001b[39;00m\n\u001b[1;32m     16\u001b[0m \u001b[38;5;124;03m    \"\"\"\u001b[39;00m\n",
      "\u001b[0;31mImportError\u001b[0m: cannot import name 'is_nltk_available' from 'transformers.utils.import_utils' (/Users/sohailshaik/anaconda3/lib/python3.11/site-packages/transformers/utils/import_utils.py)"
     ]
    }
   ],
   "source": [
    "from sentence_transformers import SentenceTransformer\n",
    "\n",
    "SentenceTransformer(\"all-mpnet-base-v2\")\n",
    "vectors = encoder.encode(df['Movie'])\n",
    "vectors.shape"
   ]
  },
  {
   "cell_type": "code",
   "execution_count": 25,
   "id": "92ab9017",
   "metadata": {},
   "outputs": [
    {
     "ename": "ImportError",
     "evalue": "cannot import name 'is_nltk_available' from 'transformers.utils.import_utils' (/Users/sohailshaik/anaconda3/lib/python3.11/site-packages/transformers/utils/import_utils.py)",
     "output_type": "error",
     "traceback": [
      "\u001b[0;31m---------------------------------------------------------------------------\u001b[0m",
      "\u001b[0;31mImportError\u001b[0m                               Traceback (most recent call last)",
      "Cell \u001b[0;32mIn[25], line 1\u001b[0m\n\u001b[0;32m----> 1\u001b[0m \u001b[38;5;28;01mfrom\u001b[39;00m \u001b[38;5;21;01msentence_transformers\u001b[39;00m \u001b[38;5;28;01mimport\u001b[39;00m SentenceTransformer\n\u001b[1;32m      2\u001b[0m model \u001b[38;5;241m=\u001b[39m SentenceTransformer(\u001b[38;5;124m\"\u001b[39m\u001b[38;5;124mall-MiniLM-L6-v2\u001b[39m\u001b[38;5;124m\"\u001b[39m)\n\u001b[1;32m      4\u001b[0m \u001b[38;5;66;03m# Our sentences to encode\u001b[39;00m\n",
      "File \u001b[0;32m~/anaconda3/lib/python3.11/site-packages/sentence_transformers/__init__.py:3\u001b[0m\n\u001b[1;32m      1\u001b[0m __version__ \u001b[38;5;241m=\u001b[39m \u001b[38;5;124m\"\u001b[39m\u001b[38;5;124m2.4.0\u001b[39m\u001b[38;5;124m\"\u001b[39m\n\u001b[1;32m      2\u001b[0m __MODEL_HUB_ORGANIZATION__ \u001b[38;5;241m=\u001b[39m \u001b[38;5;124m\"\u001b[39m\u001b[38;5;124msentence-transformers\u001b[39m\u001b[38;5;124m\"\u001b[39m\n\u001b[0;32m----> 3\u001b[0m \u001b[38;5;28;01mfrom\u001b[39;00m \u001b[38;5;21;01m.\u001b[39;00m\u001b[38;5;21;01mdatasets\u001b[39;00m \u001b[38;5;28;01mimport\u001b[39;00m SentencesDataset, ParallelSentencesDataset\n\u001b[1;32m      4\u001b[0m \u001b[38;5;28;01mfrom\u001b[39;00m \u001b[38;5;21;01m.\u001b[39;00m\u001b[38;5;21;01mLoggingHandler\u001b[39;00m \u001b[38;5;28;01mimport\u001b[39;00m LoggingHandler\n\u001b[1;32m      5\u001b[0m \u001b[38;5;28;01mfrom\u001b[39;00m \u001b[38;5;21;01m.\u001b[39;00m\u001b[38;5;21;01mSentenceTransformer\u001b[39;00m \u001b[38;5;28;01mimport\u001b[39;00m SentenceTransformer\n",
      "File \u001b[0;32m~/anaconda3/lib/python3.11/site-packages/sentence_transformers/datasets/__init__.py:1\u001b[0m\n\u001b[0;32m----> 1\u001b[0m \u001b[38;5;28;01mfrom\u001b[39;00m \u001b[38;5;21;01m.\u001b[39;00m\u001b[38;5;21;01mDenoisingAutoEncoderDataset\u001b[39;00m \u001b[38;5;28;01mimport\u001b[39;00m DenoisingAutoEncoderDataset\n\u001b[1;32m      2\u001b[0m \u001b[38;5;28;01mfrom\u001b[39;00m \u001b[38;5;21;01m.\u001b[39;00m\u001b[38;5;21;01mNoDuplicatesDataLoader\u001b[39;00m \u001b[38;5;28;01mimport\u001b[39;00m NoDuplicatesDataLoader\n\u001b[1;32m      3\u001b[0m \u001b[38;5;28;01mfrom\u001b[39;00m \u001b[38;5;21;01m.\u001b[39;00m\u001b[38;5;21;01mParallelSentencesDataset\u001b[39;00m \u001b[38;5;28;01mimport\u001b[39;00m ParallelSentencesDataset\n",
      "File \u001b[0;32m~/anaconda3/lib/python3.11/site-packages/sentence_transformers/datasets/DenoisingAutoEncoderDataset.py:5\u001b[0m\n\u001b[1;32m      3\u001b[0m \u001b[38;5;28;01mfrom\u001b[39;00m \u001b[38;5;21;01m.\u001b[39;00m\u001b[38;5;21;01m.\u001b[39;00m\u001b[38;5;21;01mreaders\u001b[39;00m\u001b[38;5;21;01m.\u001b[39;00m\u001b[38;5;21;01mInputExample\u001b[39;00m \u001b[38;5;28;01mimport\u001b[39;00m InputExample\n\u001b[1;32m      4\u001b[0m \u001b[38;5;28;01mimport\u001b[39;00m \u001b[38;5;21;01mnumpy\u001b[39;00m \u001b[38;5;28;01mas\u001b[39;00m \u001b[38;5;21;01mnp\u001b[39;00m\n\u001b[0;32m----> 5\u001b[0m \u001b[38;5;28;01mfrom\u001b[39;00m \u001b[38;5;21;01mtransformers\u001b[39;00m\u001b[38;5;21;01m.\u001b[39;00m\u001b[38;5;21;01mutils\u001b[39;00m\u001b[38;5;21;01m.\u001b[39;00m\u001b[38;5;21;01mimport_utils\u001b[39;00m \u001b[38;5;28;01mimport\u001b[39;00m is_nltk_available, NLTK_IMPORT_ERROR\n\u001b[1;32m      8\u001b[0m \u001b[38;5;28;01mclass\u001b[39;00m \u001b[38;5;21;01mDenoisingAutoEncoderDataset\u001b[39;00m(Dataset):\n\u001b[1;32m      9\u001b[0m \u001b[38;5;250m    \u001b[39m\u001b[38;5;124;03m\"\"\"\u001b[39;00m\n\u001b[1;32m     10\u001b[0m \u001b[38;5;124;03m    The DenoisingAutoEncoderDataset returns InputExamples in the format: texts=[noise_fn(sentence), sentence]\u001b[39;00m\n\u001b[1;32m     11\u001b[0m \u001b[38;5;124;03m    It is used in combination with the DenoisingAutoEncoderLoss: Here, a decoder tries to re-construct the\u001b[39;00m\n\u001b[0;32m   (...)\u001b[0m\n\u001b[1;32m     15\u001b[0m \u001b[38;5;124;03m    :param noise_fn: A noise function: Given a string, it returns a string with noise, e.g. deleted words\u001b[39;00m\n\u001b[1;32m     16\u001b[0m \u001b[38;5;124;03m    \"\"\"\u001b[39;00m\n",
      "\u001b[0;31mImportError\u001b[0m: cannot import name 'is_nltk_available' from 'transformers.utils.import_utils' (/Users/sohailshaik/anaconda3/lib/python3.11/site-packages/transformers/utils/import_utils.py)"
     ]
    }
   ],
   "source": [
    "from sentence_transformers import SentenceTransformer\n",
    "model = SentenceTransformer(\"all-MiniLM-L6-v2\")\n",
    "\n",
    "# Our sentences to encode\n",
    "sentences = [\n",
    "    \"This framework generates embeddings for each input sentence\",\n",
    "    \"Sentences are passed as a list of string.\",\n",
    "    \"The quick brown fox jumps over the lazy dog.\"\n",
    "]\n",
    "\n",
    "# Sentences are encoded by calling model.encode()\n",
    "embeddings = model.encode(sentences)\n",
    "\n",
    "# Print the embeddings\n",
    "for sentence, embedding in zip(sentences, embeddings):\n",
    "    print(\"Sentence:\", sentence)\n",
    "    print(\"Embedding:\", embedding)\n",
    "    print(\"\")"
   ]
  },
  {
   "cell_type": "code",
   "execution_count": null,
   "id": "2348545e",
   "metadata": {},
   "outputs": [],
   "source": []
  }
 ],
 "metadata": {
  "kernelspec": {
   "display_name": "Python 3 (ipykernel)",
   "language": "python",
   "name": "python3"
  },
  "language_info": {
   "codemirror_mode": {
    "name": "ipython",
    "version": 3
   },
   "file_extension": ".py",
   "mimetype": "text/x-python",
   "name": "python",
   "nbconvert_exporter": "python",
   "pygments_lexer": "ipython3",
   "version": "3.11.5"
  }
 },
 "nbformat": 4,
 "nbformat_minor": 5
}
